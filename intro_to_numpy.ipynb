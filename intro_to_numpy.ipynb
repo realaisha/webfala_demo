{
 "cells": [
  {
   "cell_type": "code",
   "execution_count": null,
   "id": "9a10f614-e4a2-4842-a75d-22473e5ed482",
   "metadata": {},
   "outputs": [],
   "source": []
  }
 ],
 "metadata": {
  "kernelspec": {
   "display_name": "",
   "name": ""
  },
  "language_info": {
   "name": ""
  }
 },
 "nbformat": 4,
 "nbformat_minor": 5
}
